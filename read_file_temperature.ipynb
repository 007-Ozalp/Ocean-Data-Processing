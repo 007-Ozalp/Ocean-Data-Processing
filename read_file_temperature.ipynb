{
 "cells": [
  {
   "cell_type": "code",
   "execution_count": 1,
   "metadata": {},
   "outputs": [
    {
     "data": {
      "text/plain": [
       "'3.9.0'"
      ]
     },
     "execution_count": 1,
     "metadata": {},
     "output_type": "execute_result"
    }
   ],
   "source": [
    "#The conventions for CF (Climate and Forecast) metadata are designed to promote the processing \n",
    "#and sharing of files created with the NetCDF\n",
    "\n",
    "import cf\n",
    "cf.__version__\n",
    "\n",
    "\n"
   ]
  },
  {
   "cell_type": "code",
   "execution_count": 2,
   "metadata": {},
   "outputs": [
    {
     "data": {
      "text/plain": [
       "'1.8'"
      ]
     },
     "execution_count": 2,
     "metadata": {},
     "output_type": "execute_result"
    }
   ],
   "source": [
    "cf.CF()"
   ]
  },
  {
   "cell_type": "code",
   "execution_count": null,
   "metadata": {},
   "outputs": [],
   "source": []
  },
  {
   "cell_type": "code",
   "execution_count": 3,
   "metadata": {},
   "outputs": [],
   "source": [
    "%matplotlib inline\n",
    "\n",
    "# Turn off warnings\n",
    "import warnings\n",
    "warnings.filterwarnings(\"ignore\")\n"
   ]
  },
  {
   "cell_type": "code",
   "execution_count": 4,
   "metadata": {},
   "outputs": [],
   "source": [
    "# Import the cf and cfplot packages\n",
    "import cf, cfplot as cfp"
   ]
  },
  {
   "cell_type": "code",
   "execution_count": 5,
   "metadata": {},
   "outputs": [],
   "source": [
    "\n",
    "f = cf.read('2019-11-16T12:00:00_Daily_temp_2019_AdriaticSea_Z10_CF.nc')[0] \n"
   ]
  },
  {
   "cell_type": "code",
   "execution_count": 6,
   "metadata": {},
   "outputs": [
    {
     "data": {
      "text/plain": [
       "<CF Field: sea_water_potential_temperature(time(1), depth(10), latitude(216), longitude(241)) degrees_C>"
      ]
     },
     "execution_count": 6,
     "metadata": {},
     "output_type": "execute_result"
    }
   ],
   "source": [
    "f"
   ]
  },
  {
   "cell_type": "code",
   "execution_count": 7,
   "metadata": {},
   "outputs": [
    {
     "name": "stdout",
     "output_type": "stream",
     "text": [
      "Field: sea_water_potential_temperature (ncvar%thetao)\n",
      "-----------------------------------------------------\n",
      "Data            : sea_water_potential_temperature(time(1), depth(10), latitude(216), longitude(241)) degrees_C\n",
      "Dimension coords: time(1) = [2019-11-16 12:00:00] standard\n",
      "                : depth(10) = [5, ..., 1000] m\n",
      "                : latitude(216) = [37.02083206176758, ..., 45.97916793823242] degrees_north\n",
      "                : longitude(241) = [12.0, ..., 22.0] degrees_east\n"
     ]
    }
   ],
   "source": [
    "print(f)"
   ]
  },
  {
   "cell_type": "code",
   "execution_count": 8,
   "metadata": {},
   "outputs": [
    {
     "name": "stdout",
     "output_type": "stream",
     "text": [
      "-----------------------------------------------------\n",
      "Field: sea_water_potential_temperature (ncvar%thetao)\n",
      "-----------------------------------------------------\n",
      "Conventions = 'CF-1.8'\n",
      "FROM_ORIGINAL_FILE__field_type = 'daily_mean_centered_at_time_field'\n",
      "_ChunkSizes = array([  1,  29,  76, 258], dtype=int32)\n",
      "_CoordSysBuilder = 'ucar.nc2.dataset.conv.CF1Convention'\n",
      "_FillValue = nan\n",
      "bulletin_date = '20210608'\n",
      "bulletin_type = 'forecast'\n",
      "comment = 'Please check in CMEMS catalogue the INFO section for product\n",
      "           MEDSEA_ANALYSISFORECAST_PHY_006_013 - http://marine.copernicus.eu '\n",
      "contact = 'servicedesk.cmems@mercator-ocean.eu'\n",
      "history = 'Data extracted from dataset http://localhost:8080/thredds/dodsC/med-\n",
      "           cmcc-tem-an-fc-d'\n",
      "institution = 'Centro Euro-Mediterraneo sui Cambiamenti Climatici - CMCC,\n",
      "               Italy'\n",
      "long_name = 'potential temperature'\n",
      "references = 'Clementi, E., Aydogdu, A., Goglio, A. C., Pistoia, J., Escudier,\n",
      "              R., Drudi, M., Grandi, A., Mariani, A., Lyubartsev, V., Lecci,\n",
      "              R., Creti, S., Coppini, G., Masina, S., & Pinardi, N. (2021).\n",
      "              Mediterranean Sea Analysis and Forecast (CMEMS MED-Currents, EAS6\n",
      "              system) (Version 1) [Data set]. Copernicus Monitoring Environment\n",
      "              Marine Service (CMEMS). https://doi.org/10.25423/CMCC/MEDSEA_ANAL\n",
      "              YSISFORECAST_PHY_006_013_EAS6'\n",
      "source = 'MFS EAS6'\n",
      "standard_name = 'sea_water_potential_temperature'\n",
      "title = 'Potential Temperature (3D) - Daily Mean'\n",
      "units = 'degrees_C'\n",
      "\n",
      "Data(time(1), depth(10), latitude(216), longitude(241)) = [[[[19.522718755628905, ..., --]]]] degrees_C\n",
      "\n",
      "Domain Axis: depth(10)\n",
      "Domain Axis: latitude(216)\n",
      "Domain Axis: longitude(241)\n",
      "Domain Axis: time(1)\n",
      "\n",
      "Dimension coordinate: time\n",
      "    _ChunkSizes = 1\n",
      "    _CoordinateAxisType = 'Time'\n",
      "    _FillValue = nan\n",
      "    axis = 'T'\n",
      "    calendar = 'standard'\n",
      "    long_name = 'time'\n",
      "    standard_name = 'time'\n",
      "    units = 'minutes since 1900-01-01'\n",
      "    valid_max = 63068400.0\n",
      "    valid_min = 63026640.0\n",
      "    Data(time(1)) = [2019-11-16 12:00:00] standard\n",
      "\n",
      "Dimension coordinate: depth\n",
      "    _ChunkSizes = 141\n",
      "    _CoordinateAxisType = 'Height'\n",
      "    _CoordinateZisPositive = 'down'\n",
      "    axis = 'Z'\n",
      "    long_name = 'depth'\n",
      "    positive = 'down'\n",
      "    standard_name = 'depth'\n",
      "    units = 'm'\n",
      "    valid_max = 1005.1355\n",
      "    valid_min = 1.0182366\n",
      "    Data(depth(10)) = [5, ..., 1000] m\n",
      "\n",
      "Dimension coordinate: latitude\n",
      "    _ChunkSizes = 380\n",
      "    _CoordinateAxisType = 'Lat'\n",
      "    _FillValue = nan\n",
      "    axis = 'Y'\n",
      "    long_name = 'latitude'\n",
      "    standard_name = 'latitude'\n",
      "    units = 'degrees_north'\n",
      "    valid_max = 45.979168\n",
      "    valid_min = 37.020832\n",
      "    Data(latitude(216)) = [37.02083206176758, ..., 45.97916793823242] degrees_north\n",
      "\n",
      "Dimension coordinate: longitude\n",
      "    _ChunkSizes = 1287\n",
      "    _CoordinateAxisType = 'Lon'\n",
      "    _FillValue = nan\n",
      "    axis = 'X'\n",
      "    long_name = 'longitude'\n",
      "    standard_name = 'longitude'\n",
      "    units = 'degrees_east'\n",
      "    valid_max = 22.0\n",
      "    valid_min = 12.0\n",
      "    Data(longitude(241)) = [12.0, ..., 22.0] degrees_east\n",
      "\n"
     ]
    }
   ],
   "source": [
    "#Returns a description of all properties, including those of metadata constructs and their components, and provides selected values of all data arrays.\n",
    "f.dump()"
   ]
  },
  {
   "cell_type": "code",
   "execution_count": 9,
   "metadata": {},
   "outputs": [
    {
     "data": {
      "text/plain": [
       "{'minimum': <CF Data(): 12.068608136251923 degrees_C>,\n",
       " 'mean': <CF Data(): 17.215882480232786 degrees_C>,\n",
       " 'median': <CF Data(): 17.089130820469308 degrees_C>,\n",
       " 'maximum': <CF Data(): 22.887036336468466 degrees_C>,\n",
       " 'range': <CF Data(): 10.818428200216543 degrees_C>,\n",
       " 'mid_range': <CF Data(): 17.477822236360193 degrees_C>,\n",
       " 'standard_deviation': <CF Data(): 2.783566163583969 degrees_C>,\n",
       " 'root_mean_square': <CF Data(): 17.43946243896972 degrees_C>,\n",
       " 'sample_size': 178621}"
      ]
     },
     "execution_count": 9,
     "metadata": {},
     "output_type": "execute_result"
    }
   ],
   "source": [
    "f.data.stats()"
   ]
  },
  {
   "cell_type": "code",
   "execution_count": null,
   "metadata": {},
   "outputs": [],
   "source": []
  },
  {
   "cell_type": "code",
   "execution_count": null,
   "metadata": {},
   "outputs": [],
   "source": []
  }
 ],
 "metadata": {
  "kernelspec": {
   "display_name": "Python 3",
   "language": "python",
   "name": "python3"
  },
  "language_info": {
   "codemirror_mode": {
    "name": "ipython",
    "version": 3
   },
   "file_extension": ".py",
   "mimetype": "text/x-python",
   "name": "python",
   "nbconvert_exporter": "python",
   "pygments_lexer": "ipython3",
   "version": "3.8.5"
  }
 },
 "nbformat": 4,
 "nbformat_minor": 4
}
